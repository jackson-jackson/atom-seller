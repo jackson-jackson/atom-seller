
#%%
import poloniex
import private


polo = poloniex.Poloniex(private.API_KEY,private.API_SECRET)
currency_pair = 'BTC_ATOM'
price = 0.01000000
amount = 1


#%%
def place_orders():
    polo.sell(currency_pair, price, amount)
    polo.sell(currency_pair, price + .001, amount)


#%%
def open_orders():
    orders = polo.returnOpenOrders('BTC_ATOM')
    open_orders = []

    for order in orders:
        open_orders.append(order['orderNumber'])
    return open_orders


#%%
def cancel_orders():
    for order in open_orders():
        polo.cancelOrder(order)


# Get average price of currency pair
def get_average_price(currency_pair):
    
    orderbook = polo.returnOrderBook(currency_pair, depth=5)
    
    sum_price = 0

    for ask in orderbook['bids']:
       sum_price += float(ask[0])

    return round(sum_price / len(orderbook['bids']), 8)


#%%
def price_inside_spread():
        tickers = polo.returnTicker()
        highest_bid = float(tickers[currency_pair]['highestBid'])
        lowest_ask = float(tickers[currency_pair]['lowestAsk'])
        
        spread = lowest_ask - highest_bid

        order_price = highest_bid + (spread / 2)

        return round(order_price, 8)

#%%
price_inside_spread()